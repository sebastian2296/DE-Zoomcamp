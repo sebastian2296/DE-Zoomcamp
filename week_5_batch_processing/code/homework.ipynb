{
 "cells": [
  {
   "cell_type": "code",
   "execution_count": 1,
   "id": "dffca1c7",
   "metadata": {},
   "outputs": [],
   "source": [
    "import findspark\n",
    "findspark.init()"
   ]
  },
  {
   "cell_type": "code",
   "execution_count": 4,
   "id": "f0b7be5f",
   "metadata": {
    "scrolled": true
   },
   "outputs": [
    {
     "name": "stderr",
     "output_type": "stream",
     "text": [
      "22/03/01 11:14:09 WARN Utils: Your hostname, sebastian2296 resolves to a loopback address: 127.0.1.1; using 192.168.104.122 instead (on interface wlp2s0)\n",
      "22/03/01 11:14:09 WARN Utils: Set SPARK_LOCAL_IP if you need to bind to another address\n",
      "WARNING: An illegal reflective access operation has occurred\n",
      "WARNING: Illegal reflective access by org.apache.spark.unsafe.Platform (file:/opt/spark/jars/spark-unsafe_2.12-3.2.0.jar) to constructor java.nio.DirectByteBuffer(long,int)\n",
      "WARNING: Please consider reporting this to the maintainers of org.apache.spark.unsafe.Platform\n",
      "WARNING: Use --illegal-access=warn to enable warnings of further illegal reflective access operations\n",
      "WARNING: All illegal access operations will be denied in a future release\n",
      "Using Spark's default log4j profile: org/apache/spark/log4j-defaults.properties\n",
      "Setting default log level to \"WARN\".\n",
      "To adjust logging level use sc.setLogLevel(newLevel). For SparkR, use setLogLevel(newLevel).\n",
      "22/03/01 11:14:10 WARN NativeCodeLoader: Unable to load native-hadoop library for your platform... using builtin-java classes where applicable\n"
     ]
    }
   ],
   "source": [
    "import pyspark \n",
    "from pyspark.sql import SparkSession\n",
    "\n",
    "spark = SparkSession.builder\\\n",
    "        .master('local[*]') \\\n",
    "        .appName('Homework') \\\n",
    "        .getOrCreate()"
   ]
  },
  {
   "cell_type": "code",
   "execution_count": 5,
   "id": "0eeb0c52",
   "metadata": {},
   "outputs": [
    {
     "data": {
      "text/plain": [
       "'3.2.0'"
      ]
     },
     "execution_count": 5,
     "metadata": {},
     "output_type": "execute_result"
    }
   ],
   "source": [
    "# Q1\n",
    "\n",
    "spark.version"
   ]
  },
  {
   "cell_type": "code",
   "execution_count": 8,
   "id": "1918ed40",
   "metadata": {},
   "outputs": [
    {
     "name": "stdout",
     "output_type": "stream",
     "text": [
      "--2022-03-01 11:21:00--  https://nyc-tlc.s3.amazonaws.com/trip+data/fhvhv_tripdata_2021-02.csv\n",
      "Resolving nyc-tlc.s3.amazonaws.com (nyc-tlc.s3.amazonaws.com)... 52.216.160.219, 2800:800:900:4::34d8:a0db\n",
      "Connecting to nyc-tlc.s3.amazonaws.com (nyc-tlc.s3.amazonaws.com)|52.216.160.219|:443... connected.\n",
      "HTTP request sent, awaiting response... 200 OK\n",
      "Length: 733822658 (700M) [text/csv]\n",
      "Saving to: ‘fhvhv_tripdata_2021-02.csv’\n",
      "\n",
      "fhvhv_tripdata_2021 100%[===================>] 699,83M   991KB/s    in 17m 27s \n",
      "\n",
      "2022-03-01 11:38:28 (685 KB/s) - ‘fhvhv_tripdata_2021-02.csv’ saved [733822658/733822658]\n",
      "\n"
     ]
    }
   ],
   "source": [
    "# Q2 Size of HVFHW February 2021 \n",
    "!wget https://nyc-tlc.s3.amazonaws.com/trip+data/fhvhv_tripdata_2021-02.csv"
   ]
  },
  {
   "cell_type": "code",
   "execution_count": 16,
   "id": "daf0adae",
   "metadata": {},
   "outputs": [],
   "source": [
    "from pyspark.sql import types\n",
    "\n",
    "schema = types.StructType([\n",
    "\n",
    "    types.StructField('hvfhs_license_num',types.StringType(),True),\n",
    "    types.StructField('dispatching_base_num',types.StringType(),True),\n",
    "    types.StructField('pickup_datetime',types.TimestampType(),True),\n",
    "    types.StructField('dropoff_datetime',types.TimestampType(),True),\n",
    "    types.StructField('PULocationID',types.IntegerType(),True),\n",
    "    types.StructField('DOLocationID',types.IntegerType(),True),\n",
    "    types.StructField('SR_Flag',types.StringType(),True)\n",
    "]\n",
    ")"
   ]
  },
  {
   "cell_type": "code",
   "execution_count": 17,
   "id": "77979a79",
   "metadata": {},
   "outputs": [],
   "source": [
    "df = spark.read.option('header', 'true').schema(schema).csv('./fhvhv_tripdata_2021-02.csv')"
   ]
  },
  {
   "cell_type": "code",
   "execution_count": 21,
   "id": "054985b0",
   "metadata": {},
   "outputs": [],
   "source": [
    "import os\n",
    "\n",
    "os.environ[\"PYSPARK_SUBMIT_ARGS\"] = \"--driver-memory 2g\""
   ]
  },
  {
   "cell_type": "code",
   "execution_count": 24,
   "id": "571ab31b",
   "metadata": {},
   "outputs": [],
   "source": [
    "#!mkdir homework\n",
    "df = df.repartition(24)"
   ]
  },
  {
   "cell_type": "code",
   "execution_count": 25,
   "id": "19d9680c",
   "metadata": {},
   "outputs": [
    {
     "name": "stderr",
     "output_type": "stream",
     "text": [
      "22/03/01 11:50:20 WARN MemoryManager: Total allocation exceeds 95.00% (1,020,054,720 bytes) of heap memory\n",
      "Scaling row group sizes to 95.00% for 8 writers\n",
      "22/03/01 11:50:23 WARN MemoryManager: Total allocation exceeds 95.00% (1,020,054,720 bytes) of heap memory\n",
      "Scaling row group sizes to 95.00% for 8 writers\n",
      "22/03/01 11:50:23 WARN MemoryManager: Total allocation exceeds 95.00% (1,020,054,720 bytes) of heap memory\n",
      "Scaling row group sizes to 95.00% for 8 writers\n",
      "22/03/01 11:50:25 WARN MemoryManager: Total allocation exceeds 95.00% (1,020,054,720 bytes) of heap memory\n",
      "Scaling row group sizes to 95.00% for 8 writers\n",
      "22/03/01 11:50:25 WARN MemoryManager: Total allocation exceeds 95.00% (1,020,054,720 bytes) of heap memory\n",
      "Scaling row group sizes to 95.00% for 8 writers\n",
      "22/03/01 11:50:26 WARN MemoryManager: Total allocation exceeds 95.00% (1,020,054,720 bytes) of heap memory\n",
      "Scaling row group sizes to 95.00% for 8 writers\n",
      "                                                                                \r"
     ]
    }
   ],
   "source": [
    "df.write.parquet('./homework', mode = 'overwrite')"
   ]
  },
  {
   "cell_type": "code",
   "execution_count": 31,
   "id": "bb7b34dc",
   "metadata": {},
   "outputs": [
    {
     "name": "stdout",
     "output_type": "stream",
     "text": [
      "209M\thomework/\r\n"
     ]
    }
   ],
   "source": [
    "!du -sh homework/"
   ]
  },
  {
   "cell_type": "markdown",
   "id": "148e0ee5",
   "metadata": {},
   "source": [
    "## Read Parquet Files"
   ]
  },
  {
   "cell_type": "code",
   "execution_count": 33,
   "id": "8f55f9c3",
   "metadata": {},
   "outputs": [],
   "source": [
    "dfp = spark.read.parquet('./homework/*')"
   ]
  },
  {
   "cell_type": "code",
   "execution_count": 36,
   "id": "f45f028a",
   "metadata": {},
   "outputs": [
    {
     "name": "stdout",
     "output_type": "stream",
     "text": [
      "root\n",
      " |-- hvfhs_license_num: string (nullable = true)\n",
      " |-- dispatching_base_num: string (nullable = true)\n",
      " |-- pickup_datetime: timestamp (nullable = true)\n",
      " |-- dropoff_datetime: timestamp (nullable = true)\n",
      " |-- PULocationID: integer (nullable = true)\n",
      " |-- DOLocationID: integer (nullable = true)\n",
      " |-- SR_Flag: string (nullable = true)\n",
      "\n"
     ]
    }
   ],
   "source": [
    "dfp.printSchema()"
   ]
  },
  {
   "cell_type": "code",
   "execution_count": 38,
   "id": "95e49bb5",
   "metadata": {
    "scrolled": true
   },
   "outputs": [],
   "source": [
    "# Q3 How many taxi trips were there on February 15?\n",
    "dfp.createOrReplaceTempView('fhvh')"
   ]
  },
  {
   "cell_type": "code",
   "execution_count": 41,
   "id": "6846fe07",
   "metadata": {},
   "outputs": [
    {
     "name": "stderr",
     "output_type": "stream",
     "text": [
      "\r",
      "[Stage 23:>                                                         (0 + 8) / 8]\r"
     ]
    },
    {
     "name": "stdout",
     "output_type": "stream",
     "text": [
      "+--------+\n",
      "|trips_15|\n",
      "+--------+\n",
      "|  367170|\n",
      "+--------+\n",
      "\n"
     ]
    },
    {
     "name": "stderr",
     "output_type": "stream",
     "text": [
      "\r",
      "                                                                                \r"
     ]
    }
   ],
   "source": [
    "spark.sql('''\n",
    "    SELECT COUNT(1) as trips_15 FROM fhvh\n",
    "    WHERE EXTRACT(DAY from pickup_datetime) = 15 \n",
    "''').show()"
   ]
  },
  {
   "cell_type": "code",
   "execution_count": 50,
   "id": "9e85e53e",
   "metadata": {},
   "outputs": [
    {
     "name": "stderr",
     "output_type": "stream",
     "text": [
      "\r",
      "[Stage 39:>                                                         (0 + 8) / 8]\r"
     ]
    },
    {
     "name": "stdout",
     "output_type": "stream",
     "text": [
      "+-------------------+-------------+\n",
      "|    pickup_datetime|trip_duration|\n",
      "+-------------------+-------------+\n",
      "|2021-02-11 13:40:44|           20|\n",
      "|2021-02-17 15:54:53|           15|\n",
      "|2021-02-20 12:08:15|           12|\n",
      "|2021-02-03 20:24:25|           11|\n",
      "|2021-02-19 23:17:44|           10|\n",
      "|2021-02-18 15:24:19|            9|\n",
      "|2021-02-25 09:18:18|            9|\n",
      "|2021-02-10 01:56:17|            9|\n",
      "|2021-02-18 01:31:20|            9|\n",
      "|2021-02-10 20:51:39|            9|\n",
      "|2021-02-25 17:13:35|            9|\n",
      "|2021-02-20 01:36:13|            9|\n",
      "|2021-02-21 22:50:52|            8|\n",
      "|2021-02-09 13:30:13|            8|\n",
      "|2021-02-21 19:59:13|            8|\n",
      "|2021-02-08 12:04:24|            8|\n",
      "|2021-02-02 09:42:30|            8|\n",
      "|2021-02-03 11:18:31|            8|\n",
      "|2021-02-10 10:12:08|            8|\n",
      "|2021-02-12 06:16:42|            8|\n",
      "+-------------------+-------------+\n",
      "only showing top 20 rows\n",
      "\n"
     ]
    },
    {
     "name": "stderr",
     "output_type": "stream",
     "text": [
      "\r",
      "                                                                                \r"
     ]
    }
   ],
   "source": [
    "# Q4 Trip starting on which day was the longest?\n",
    "spark.sql('''\n",
    "    SELECT pickup_datetime, EXTRACT(HOUR FROM (dropoff_datetime - pickup_datetime))  as trip_duration FROM fhvh\n",
    "    ORDER BY 2 DESC\n",
    "''').show()"
   ]
  },
  {
   "cell_type": "code",
   "execution_count": 55,
   "id": "65098abe",
   "metadata": {},
   "outputs": [
    {
     "name": "stdout",
     "output_type": "stream",
     "text": [
      "+--------------------+---------------------------+\n",
      "|dispatching_base_num|count(dispatching_base_num)|\n",
      "+--------------------+---------------------------+\n",
      "|              B02510|                    3233664|\n",
      "|              B02764|                     965568|\n",
      "|              B02872|                     882689|\n",
      "|              B02875|                     685390|\n",
      "|              B02765|                     559768|\n",
      "|              B02869|                     429720|\n",
      "|              B02887|                     322331|\n",
      "|              B02871|                     312364|\n",
      "|              B02864|                     311603|\n",
      "|              B02866|                     311089|\n",
      "|              B02878|                     305185|\n",
      "|              B02682|                     303255|\n",
      "|              B02617|                     274510|\n",
      "|              B02883|                     251617|\n",
      "|              B02884|                     244963|\n",
      "|              B02882|                     232173|\n",
      "|              B02876|                     215693|\n",
      "|              B02879|                     210137|\n",
      "|              B02867|                     200530|\n",
      "|              B02877|                     198938|\n",
      "+--------------------+---------------------------+\n",
      "only showing top 20 rows\n",
      "\n"
     ]
    }
   ],
   "source": [
    "# Q5 Now find the most frequently occurring dispatching_base_num in this dataset. \n",
    "# How many stages this spark job has?\n",
    "\n",
    "spark.sql('''\n",
    "    SELECT  dispatching_base_num, COUNT(dispatching_base_num) FROM fhvh\n",
    "    GROUP BY 1\n",
    "    ORDER BY 2 DESC\n",
    "\n",
    "''').show()\n"
   ]
  },
  {
   "cell_type": "code",
   "execution_count": 62,
   "id": "c71e9e5f",
   "metadata": {},
   "outputs": [],
   "source": [
    "# Q6 Find the most common pickup-dropoff pair."
   ]
  },
  {
   "cell_type": "code",
   "execution_count": 63,
   "id": "8c187172",
   "metadata": {},
   "outputs": [],
   "source": [
    "zones = spark.read.parquet('./zones/*')\n",
    "zones.createOrReplaceTempView('zones')"
   ]
  },
  {
   "cell_type": "code",
   "execution_count": 98,
   "id": "e86074ad",
   "metadata": {},
   "outputs": [
    {
     "name": "stderr",
     "output_type": "stream",
     "text": [
      "[Stage 86:=======>                                                  (1 + 7) / 8]\r"
     ]
    },
    {
     "name": "stdout",
     "output_type": "stream",
     "text": [
      "+----------------------------------------------------+-----------+\n",
      "|MCL                                                 |count(Zone)|\n",
      "+----------------------------------------------------+-----------+\n",
      "|East New York/ East New York                        |45041      |\n",
      "|Borough Park/ Borough Park                          |37329      |\n",
      "|Canarsie/ Canarsie                                  |28026      |\n",
      "|Crown Heights North/ Crown Heights North            |25976      |\n",
      "|Bay Ridge/ Bay Ridge                                |17934      |\n",
      "|Jackson Heights/ Jackson Heights                    |14688      |\n",
      "|Astoria/ Astoria                                    |14688      |\n",
      "|Central Harlem North/ Central Harlem North          |14481      |\n",
      "|Bushwick South/ Bushwick South                      |14424      |\n",
      "|Flatbush/Ditmas Park/ Flatbush/Ditmas Park          |13976      |\n",
      "|South Ozone Park/ South Ozone Park                  |13716      |\n",
      "|Brownsville/ Brownsville                            |12829      |\n",
      "|JFK Airport/ NA                                     |12542      |\n",
      "|Prospect-Lefferts Gardens/ Crown Heights North      |11814      |\n",
      "|Forest Hills/ Forest Hills                          |11548      |\n",
      "|Bushwick North/ Bushwick South                      |11491      |\n",
      "|Bushwick South/ Bushwick North                      |11487      |\n",
      "|Crown Heights North/ Prospect-Lefferts Gardens      |11462      |\n",
      "|Crown Heights North/ Stuyvesant Heights             |11342      |\n",
      "|Prospect-Lefferts Gardens/ Prospect-Lefferts Gardens|11308      |\n",
      "+----------------------------------------------------+-----------+\n",
      "only showing top 20 rows\n",
      "\n"
     ]
    },
    {
     "name": "stderr",
     "output_type": "stream",
     "text": [
      "\r",
      "                                                                                \r"
     ]
    }
   ],
   "source": [
    "fhvh_zones = spark.sql('''\n",
    "    SELECT CONCAT(zpu.Zone, '/ ', zdo.Zone) as MCL, COUNT(zdo.Zone) FROM fhvh f JOIN zones zpu ON f.PULocationID = zpu.LocationID\n",
    "    JOIN zones zdo ON f.DOLocationID = zdo.LocationID\n",
    "    GROUP BY 1\n",
    "    ORDER BY 2 DESC\n",
    "''').show(truncate=False)"
   ]
  }
 ],
 "metadata": {
  "kernelspec": {
   "display_name": "Python 3 (ipykernel)",
   "language": "python",
   "name": "python3"
  },
  "language_info": {
   "codemirror_mode": {
    "name": "ipython",
    "version": 3
   },
   "file_extension": ".py",
   "mimetype": "text/x-python",
   "name": "python",
   "nbconvert_exporter": "python",
   "pygments_lexer": "ipython3",
   "version": "3.9.7"
  }
 },
 "nbformat": 4,
 "nbformat_minor": 5
}
