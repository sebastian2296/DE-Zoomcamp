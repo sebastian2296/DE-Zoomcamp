{
 "cells": [
  {
   "cell_type": "code",
   "execution_count": 1,
   "id": "ca137acc",
   "metadata": {},
   "outputs": [],
   "source": [
    "import findspark\n",
    "findspark.init()"
   ]
  },
  {
   "cell_type": "code",
   "execution_count": 2,
   "id": "cbf70e89",
   "metadata": {},
   "outputs": [
    {
     "name": "stderr",
     "output_type": "stream",
     "text": [
      "22/02/22 15:21:43 WARN Utils: Your hostname, sebastian2296 resolves to a loopback address: 127.0.1.1; using 192.168.1.10 instead (on interface wlp2s0)\n",
      "22/02/22 15:21:43 WARN Utils: Set SPARK_LOCAL_IP if you need to bind to another address\n",
      "WARNING: An illegal reflective access operation has occurred\n",
      "WARNING: Illegal reflective access by org.apache.spark.unsafe.Platform (file:/opt/spark/jars/spark-unsafe_2.12-3.2.0.jar) to constructor java.nio.DirectByteBuffer(long,int)\n",
      "WARNING: Please consider reporting this to the maintainers of org.apache.spark.unsafe.Platform\n",
      "WARNING: Use --illegal-access=warn to enable warnings of further illegal reflective access operations\n",
      "WARNING: All illegal access operations will be denied in a future release\n",
      "Using Spark's default log4j profile: org/apache/spark/log4j-defaults.properties\n",
      "Setting default log level to \"WARN\".\n",
      "To adjust logging level use sc.setLogLevel(newLevel). For SparkR, use setLogLevel(newLevel).\n",
      "22/02/22 15:21:44 WARN NativeCodeLoader: Unable to load native-hadoop library for your platform... using builtin-java classes where applicable\n",
      "22/02/22 15:21:45 WARN Utils: Service 'SparkUI' could not bind on port 4040. Attempting port 4041.\n"
     ]
    }
   ],
   "source": [
    "from pyspark.sql import SparkSession\n",
    "\n",
    "spark = SparkSession.builder \\\n",
    "        .master('local[*]') \\\n",
    "        .appName('Testing-Spark') \\\n",
    "        .getOrCreate()"
   ]
  },
  {
   "cell_type": "code",
   "execution_count": 3,
   "id": "50450655",
   "metadata": {
    "scrolled": true
   },
   "outputs": [],
   "source": [
    "#!wget https://nyc-tlc.s3.amazonaws.com/trip+data/fhvhv_tripdata_2021-01.csv"
   ]
  },
  {
   "cell_type": "code",
   "execution_count": 4,
   "id": "8e112aa3",
   "metadata": {},
   "outputs": [],
   "source": [
    "df = spark.read.option('header', 'true').csv('fhvhv_tripdata_2021-01.csv')"
   ]
  },
  {
   "cell_type": "code",
   "execution_count": 5,
   "id": "99d71b96",
   "metadata": {},
   "outputs": [
    {
     "data": {
      "text/plain": [
       "[Row(hvfhs_license_num='HV0003', dispatching_base_num='B02682', pickup_datetime='2021-01-01 00:33:44', dropoff_datetime='2021-01-01 00:49:07', PULocationID='230', DOLocationID='166', SR_Flag=None),\n",
       " Row(hvfhs_license_num='HV0003', dispatching_base_num='B02682', pickup_datetime='2021-01-01 00:55:19', dropoff_datetime='2021-01-01 01:18:21', PULocationID='152', DOLocationID='167', SR_Flag=None),\n",
       " Row(hvfhs_license_num='HV0003', dispatching_base_num='B02764', pickup_datetime='2021-01-01 00:23:56', dropoff_datetime='2021-01-01 00:38:05', PULocationID='233', DOLocationID='142', SR_Flag=None),\n",
       " Row(hvfhs_license_num='HV0003', dispatching_base_num='B02764', pickup_datetime='2021-01-01 00:42:51', dropoff_datetime='2021-01-01 00:45:50', PULocationID='142', DOLocationID='143', SR_Flag=None),\n",
       " Row(hvfhs_license_num='HV0003', dispatching_base_num='B02764', pickup_datetime='2021-01-01 00:48:14', dropoff_datetime='2021-01-01 01:08:42', PULocationID='143', DOLocationID='78', SR_Flag=None)]"
      ]
     },
     "execution_count": 5,
     "metadata": {},
     "output_type": "execute_result"
    }
   ],
   "source": [
    "df.head(5)"
   ]
  },
  {
   "cell_type": "code",
   "execution_count": 6,
   "id": "79f74285",
   "metadata": {},
   "outputs": [],
   "source": [
    "!head -n 1001 fhvhv_tripdata_2021-01.csv > head.csv"
   ]
  },
  {
   "cell_type": "code",
   "execution_count": 7,
   "id": "fe7efd60",
   "metadata": {},
   "outputs": [
    {
     "data": {
      "text/plain": [
       "hvfhs_license_num        object\n",
       "dispatching_base_num     object\n",
       "pickup_datetime          object\n",
       "dropoff_datetime         object\n",
       "PULocationID              int64\n",
       "DOLocationID              int64\n",
       "SR_Flag                 float64\n",
       "dtype: object"
      ]
     },
     "execution_count": 7,
     "metadata": {},
     "output_type": "execute_result"
    }
   ],
   "source": [
    "import pandas as pd\n",
    "\n",
    "df_pandas = pd.read_csv('head.csv')\n",
    "df_pandas.dtypes"
   ]
  },
  {
   "cell_type": "code",
   "execution_count": 8,
   "id": "5f297f55",
   "metadata": {
    "scrolled": false
   },
   "outputs": [
    {
     "data": {
      "text/plain": [
       "StructType(List(StructField(hvfhs_license_num,StringType,true),StructField(dispatching_base_num,StringType,true),StructField(pickup_datetime,StringType,true),StructField(dropoff_datetime,StringType,true),StructField(PULocationID,LongType,true),StructField(DOLocationID,LongType,true),StructField(SR_Flag,DoubleType,true)))"
      ]
     },
     "execution_count": 8,
     "metadata": {},
     "output_type": "execute_result"
    }
   ],
   "source": [
    "spark.createDataFrame(df_pandas).schema"
   ]
  },
  {
   "cell_type": "code",
   "execution_count": 9,
   "id": "062d603f",
   "metadata": {},
   "outputs": [],
   "source": [
    "from pyspark.sql import types"
   ]
  },
  {
   "cell_type": "code",
   "execution_count": 10,
   "id": "b3049372",
   "metadata": {},
   "outputs": [],
   "source": [
    "schema = types.StructType([\n",
    "\n",
    "    types.StructField('hvfhs_license_num',types.StringType(),True),\n",
    "    types.StructField('dispatching_base_num',types.StringType(),True),\n",
    "    types.StructField('pickup_datetime',types.TimestampType(),True),\n",
    "    types.StructField('dropoff_datetime',types.TimestampType(),True),\n",
    "    types.StructField('PULocationID',types.IntegerType(),True),\n",
    "    types.StructField('DOLocationID',types.IntegerType(),True),\n",
    "    types.StructField('SR_Flag',types.StringType(),True)\n",
    "]\n",
    ")"
   ]
  },
  {
   "cell_type": "code",
   "execution_count": 11,
   "id": "8823a808",
   "metadata": {},
   "outputs": [],
   "source": [
    "df = spark.read.option('header', 'true').schema(schema).csv('fhvhv_tripdata_2021-01.csv')"
   ]
  },
  {
   "cell_type": "code",
   "execution_count": 12,
   "id": "a10081e3",
   "metadata": {},
   "outputs": [
    {
     "data": {
      "text/plain": [
       "[Row(hvfhs_license_num='HV0003', dispatching_base_num='B02682', pickup_datetime=datetime.datetime(2021, 1, 1, 0, 33, 44), dropoff_datetime=datetime.datetime(2021, 1, 1, 0, 49, 7), PULocationID=230, DOLocationID=166, SR_Flag=None),\n",
       " Row(hvfhs_license_num='HV0003', dispatching_base_num='B02682', pickup_datetime=datetime.datetime(2021, 1, 1, 0, 55, 19), dropoff_datetime=datetime.datetime(2021, 1, 1, 1, 18, 21), PULocationID=152, DOLocationID=167, SR_Flag=None)]"
      ]
     },
     "execution_count": 12,
     "metadata": {},
     "output_type": "execute_result"
    }
   ],
   "source": [
    "df.head(2)"
   ]
  },
  {
   "cell_type": "code",
   "execution_count": 13,
   "id": "ebb692f2",
   "metadata": {},
   "outputs": [],
   "source": [
    "df = df.repartition(24)"
   ]
  },
  {
   "cell_type": "code",
   "execution_count": 14,
   "id": "ab3f2729",
   "metadata": {},
   "outputs": [],
   "source": [
    "#df.write.parquet('fhvhv/2021/01/')"
   ]
  },
  {
   "cell_type": "markdown",
   "id": "92f622e3",
   "metadata": {},
   "source": [
    "## Creating a Dataframe with Parquet files "
   ]
  },
  {
   "cell_type": "code",
   "execution_count": 15,
   "id": "52a744c6",
   "metadata": {},
   "outputs": [],
   "source": [
    "df_from_parquet = spark.read.parquet('fhvhv/2021/01/')"
   ]
  },
  {
   "cell_type": "code",
   "execution_count": 16,
   "id": "2b31a29e",
   "metadata": {},
   "outputs": [
    {
     "name": "stdout",
     "output_type": "stream",
     "text": [
      "root\n",
      " |-- hvfhs_license_num: string (nullable = true)\n",
      " |-- dispatching_base_num: string (nullable = true)\n",
      " |-- pickup_datetime: timestamp (nullable = true)\n",
      " |-- dropoff_datetime: timestamp (nullable = true)\n",
      " |-- PULocationID: integer (nullable = true)\n",
      " |-- DOLocationID: integer (nullable = true)\n",
      " |-- SR_Flag: string (nullable = true)\n",
      "\n"
     ]
    }
   ],
   "source": [
    "df_from_parquet.printSchema()"
   ]
  },
  {
   "cell_type": "code",
   "execution_count": 17,
   "id": "7b68fdc1",
   "metadata": {},
   "outputs": [],
   "source": [
    "# Transformations (lazy)\n",
    "x = df_from_parquet.select(['pickup_datetime', 'dropoff_datetime', 'PULocationID', 'DOLocationID']) \\\n",
    "    .filter(df_from_parquet['hvfhs_license_num'] == 'HV0003')"
   ]
  },
  {
   "cell_type": "code",
   "execution_count": 18,
   "id": "f1715518",
   "metadata": {
    "scrolled": false
   },
   "outputs": [
    {
     "name": "stdout",
     "output_type": "stream",
     "text": [
      "+-------------------+-------------------+------------+------------+\n",
      "|    pickup_datetime|   dropoff_datetime|PULocationID|DOLocationID|\n",
      "+-------------------+-------------------+------------+------------+\n",
      "|2021-01-02 20:47:47|2021-01-02 21:13:43|         250|         258|\n",
      "|2021-01-04 19:40:17|2021-01-04 19:57:29|         112|          68|\n",
      "|2021-01-03 21:33:00|2021-01-03 22:01:58|         225|         170|\n",
      "|2021-01-02 20:20:00|2021-01-02 20:28:10|         149|         165|\n",
      "|2021-01-01 03:17:59|2021-01-01 03:48:44|          74|          39|\n",
      "|2021-01-03 21:54:18|2021-01-03 22:07:02|         213|          60|\n",
      "|2021-01-05 12:34:34|2021-01-05 12:57:34|          79|         138|\n",
      "|2021-01-01 18:03:05|2021-01-01 18:20:14|          69|         168|\n",
      "|2021-01-02 21:36:19|2021-01-02 21:45:19|         136|         119|\n",
      "|2021-01-05 07:50:26|2021-01-05 08:10:07|          33|         138|\n",
      "|2021-01-01 22:20:16|2021-01-01 22:35:39|          82|         135|\n",
      "|2021-01-05 10:07:30|2021-01-05 10:32:20|          91|          61|\n",
      "|2021-01-02 21:23:51|2021-01-02 21:33:13|         100|         233|\n",
      "|2021-01-02 23:25:21|2021-01-02 23:33:28|          63|          37|\n",
      "|2021-01-01 17:39:10|2021-01-01 17:47:19|         239|         142|\n",
      "|2021-01-02 22:03:13|2021-01-02 22:08:55|         252|          53|\n",
      "|2021-01-02 11:41:36|2021-01-02 11:59:33|          43|         209|\n",
      "|2021-01-02 11:36:43|2021-01-02 11:51:31|         123|          11|\n",
      "|2021-01-01 17:35:50|2021-01-01 17:47:35|         116|          42|\n",
      "|2021-01-01 12:28:12|2021-01-01 12:43:25|          61|          37|\n",
      "+-------------------+-------------------+------------+------------+\n",
      "only showing top 20 rows\n",
      "\n"
     ]
    }
   ],
   "source": [
    "# Actions (eagerb)\n",
    "x.show()"
   ]
  },
  {
   "cell_type": "markdown",
   "id": "056f6f9b",
   "metadata": {},
   "source": [
    "### Default Available Functions in Spark"
   ]
  },
  {
   "cell_type": "code",
   "execution_count": 19,
   "id": "c534dadb",
   "metadata": {},
   "outputs": [],
   "source": [
    "from pyspark.sql import functions as F"
   ]
  },
  {
   "cell_type": "code",
   "execution_count": 20,
   "id": "1fb2696f",
   "metadata": {},
   "outputs": [
    {
     "name": "stdout",
     "output_type": "stream",
     "text": [
      "+-----------+------------+------------+------------+\n",
      "|pickup_date|dropoff_date|PULocationID|DOLocationID|\n",
      "+-----------+------------+------------+------------+\n",
      "| 2021-01-02|  2021-01-02|         250|         258|\n",
      "| 2021-01-04|  2021-01-04|         112|          68|\n",
      "| 2021-01-03|  2021-01-03|         225|         170|\n",
      "| 2021-01-02|  2021-01-02|         149|         165|\n",
      "| 2021-01-01|  2021-01-01|          74|          39|\n",
      "| 2021-01-03|  2021-01-03|         138|         181|\n",
      "| 2021-01-03|  2021-01-03|         213|          60|\n",
      "| 2021-01-05|  2021-01-05|          79|         138|\n",
      "| 2021-01-01|  2021-01-01|          69|         168|\n",
      "| 2021-01-02|  2021-01-02|         136|         119|\n",
      "| 2021-01-05|  2021-01-05|          33|         138|\n",
      "| 2021-01-01|  2021-01-01|          82|         135|\n",
      "| 2021-01-05|  2021-01-05|          91|          61|\n",
      "| 2021-01-02|  2021-01-02|         100|         233|\n",
      "| 2021-01-02|  2021-01-02|          63|          37|\n",
      "| 2021-01-02|  2021-01-02|          68|         265|\n",
      "| 2021-01-01|  2021-01-01|         239|         142|\n",
      "| 2021-01-02|  2021-01-02|         252|          53|\n",
      "| 2021-01-02|  2021-01-02|          43|         209|\n",
      "| 2021-01-02|  2021-01-02|         123|          11|\n",
      "+-----------+------------+------------+------------+\n",
      "only showing top 20 rows\n",
      "\n"
     ]
    }
   ],
   "source": [
    "df_from_parquet.withColumn('pickup_date', F.to_date(df_from_parquet['pickup_datetime'])) \\\n",
    "                .withColumn('dropoff_date', F.to_date(df_from_parquet['dropoff_datetime'])) \\\n",
    "                .select(['pickup_date', 'dropoff_date', 'PULocationID', 'DOLocationID']) \\\n",
    "                .show()"
   ]
  },
  {
   "cell_type": "markdown",
   "id": "9c3ce3fe",
   "metadata": {},
   "source": [
    "### User defined functions"
   ]
  },
  {
   "cell_type": "code",
   "execution_count": 21,
   "id": "0854a94e",
   "metadata": {},
   "outputs": [],
   "source": [
    "def crazy_stuff(base_num):\n",
    "    \n",
    "    try:\n",
    "        num = int(base_num[1:])\n",
    "    \n",
    "    except ValueError:\n",
    "        num = int(base_num[2:])\n",
    "    \n",
    "    if num % 7 == 0:\n",
    "        return f's/{num:03x}'\n",
    "        \n",
    "    else:\n",
    "        return f'e/{num:03x}'\n",
    "        "
   ]
  },
  {
   "cell_type": "code",
   "execution_count": 22,
   "id": "e509b9f0",
   "metadata": {},
   "outputs": [
    {
     "data": {
      "text/plain": [
       "'e/003'"
      ]
     },
     "execution_count": 22,
     "metadata": {},
     "output_type": "execute_result"
    }
   ],
   "source": [
    "crazy_stuff('HV0003')"
   ]
  },
  {
   "cell_type": "code",
   "execution_count": 23,
   "id": "7ec808c0",
   "metadata": {},
   "outputs": [],
   "source": [
    "from pyspark.sql import types"
   ]
  },
  {
   "cell_type": "code",
   "execution_count": 24,
   "id": "877d5a06",
   "metadata": {},
   "outputs": [],
   "source": [
    "# defining udf to apply over spark dataframes\n",
    "\n",
    "crazy_udf = F.udf(crazy_stuff, returnType=types.StringType())"
   ]
  },
  {
   "cell_type": "code",
   "execution_count": 25,
   "id": "97ddcce7",
   "metadata": {},
   "outputs": [
    {
     "name": "stdout",
     "output_type": "stream",
     "text": [
      "+-------+-----------+------------+------------+------------+\n",
      "|base_id|pickup_date|dropoff_date|PULocationID|DOLocationID|\n",
      "+-------+-----------+------------+------------+------------+\n",
      "|  e/b40| 2021-01-02|  2021-01-02|         250|         258|\n",
      "|  s/b13| 2021-01-04|  2021-01-04|         112|          68|\n",
      "|  e/acc| 2021-01-03|  2021-01-03|         225|         170|\n",
      "|  e/b37| 2021-01-02|  2021-01-02|         149|         165|\n",
      "|  e/b38| 2021-01-01|  2021-01-01|          74|          39|\n",
      "|  e/9ce| 2021-01-03|  2021-01-03|         138|         181|\n",
      "|  s/b44| 2021-01-03|  2021-01-03|         213|          60|\n",
      "|  e/b3e| 2021-01-05|  2021-01-05|          79|         138|\n",
      "|  e/acc| 2021-01-01|  2021-01-01|          69|         168|\n",
      "|  e/b37| 2021-01-02|  2021-01-02|         136|         119|\n",
      "|  e/a39| 2021-01-05|  2021-01-05|          33|         138|\n",
      "|  e/b38| 2021-01-01|  2021-01-01|          82|         135|\n",
      "|  e/b37| 2021-01-05|  2021-01-05|          91|          61|\n",
      "|  e/b3c| 2021-01-02|  2021-01-02|         100|         233|\n",
      "|  e/b37| 2021-01-02|  2021-01-02|          63|          37|\n",
      "|  e/9ce| 2021-01-02|  2021-01-02|          68|         265|\n",
      "|  e/acc| 2021-01-01|  2021-01-01|         239|         142|\n",
      "|  e/b37| 2021-01-02|  2021-01-02|         252|          53|\n",
      "|  e/b3b| 2021-01-02|  2021-01-02|          43|         209|\n",
      "|  e/b37| 2021-01-02|  2021-01-02|         123|          11|\n",
      "+-------+-----------+------------+------------+------------+\n",
      "only showing top 20 rows\n",
      "\n"
     ]
    },
    {
     "name": "stderr",
     "output_type": "stream",
     "text": [
      "\r",
      "[Stage 6:>                                                          (0 + 1) / 1]\r",
      "\r",
      "                                                                                \r"
     ]
    }
   ],
   "source": [
    "df_from_parquet.withColumn('pickup_date', F.to_date(df_from_parquet['pickup_datetime'])) \\\n",
    "                .withColumn('dropoff_date', F.to_date(df_from_parquet['dropoff_datetime'])) \\\n",
    "                .withColumn('base_id', crazy_udf(df_from_parquet['dispatching_base_num'])) \\\n",
    "                .select(['base_id','pickup_date', 'dropoff_date', 'PULocationID', 'DOLocationID']) \\\n",
    "                .show()"
   ]
  },
  {
   "cell_type": "code",
   "execution_count": 26,
   "id": "1c2056f5",
   "metadata": {},
   "outputs": [
    {
     "data": {
      "text/plain": [
       "'3.2.0'"
      ]
     },
     "execution_count": 26,
     "metadata": {},
     "output_type": "execute_result"
    }
   ],
   "source": [
    "spark.version"
   ]
  }
 ],
 "metadata": {
  "kernelspec": {
   "display_name": "Python 3 (ipykernel)",
   "language": "python",
   "name": "python3"
  },
  "language_info": {
   "codemirror_mode": {
    "name": "ipython",
    "version": 3
   },
   "file_extension": ".py",
   "mimetype": "text/x-python",
   "name": "python",
   "nbconvert_exporter": "python",
   "pygments_lexer": "ipython3",
   "version": "3.9.7"
  }
 },
 "nbformat": 4,
 "nbformat_minor": 5
}
