{
 "cells": [
  {
   "cell_type": "code",
   "execution_count": 1,
   "id": "364ceaa4",
   "metadata": {},
   "outputs": [],
   "source": [
    "import findspark\n",
    "findspark.init()"
   ]
  },
  {
   "cell_type": "code",
   "execution_count": 2,
   "id": "381c7fa3",
   "metadata": {
    "scrolled": true
   },
   "outputs": [
    {
     "name": "stderr",
     "output_type": "stream",
     "text": [
      "22/02/23 15:13:20 WARN Utils: Your hostname, sebastian2296 resolves to a loopback address: 127.0.1.1; using 192.168.10.3 instead (on interface wlp2s0)\n",
      "22/02/23 15:13:20 WARN Utils: Set SPARK_LOCAL_IP if you need to bind to another address\n",
      "WARNING: An illegal reflective access operation has occurred\n",
      "WARNING: Illegal reflective access by org.apache.spark.unsafe.Platform (file:/opt/spark/jars/spark-unsafe_2.12-3.2.0.jar) to constructor java.nio.DirectByteBuffer(long,int)\n",
      "WARNING: Please consider reporting this to the maintainers of org.apache.spark.unsafe.Platform\n",
      "WARNING: Use --illegal-access=warn to enable warnings of further illegal reflective access operations\n",
      "WARNING: All illegal access operations will be denied in a future release\n",
      "Using Spark's default log4j profile: org/apache/spark/log4j-defaults.properties\n",
      "Setting default log level to \"WARN\".\n",
      "To adjust logging level use sc.setLogLevel(newLevel). For SparkR, use setLogLevel(newLevel).\n",
      "22/02/23 15:13:21 WARN NativeCodeLoader: Unable to load native-hadoop library for your platform... using builtin-java classes where applicable\n"
     ]
    }
   ],
   "source": [
    "import pyspark\n",
    "from pyspark.sql import SparkSession\n",
    "\n",
    "spark = SparkSession.builder\\\n",
    "        .master(\"local[*]\") \\\n",
    "        .appName('Repartition') \\\n",
    "        .getOrCreate()"
   ]
  },
  {
   "cell_type": "code",
   "execution_count": 3,
   "id": "a6b86d60",
   "metadata": {},
   "outputs": [],
   "source": [
    "from pathlib import Path"
   ]
  },
  {
   "cell_type": "code",
   "execution_count": 4,
   "id": "2623f659",
   "metadata": {},
   "outputs": [],
   "source": [
    "def repartition(service, year):\n",
    "    \n",
    "    for month in range(1, 13):\n",
    "        \n",
    "        path = f'../tripdata/{service}/{year}/{month:02d}/'\n",
    "        file_name = f'{service}_tripdata_{year}-{month:02d}.parquet'\n",
    "        \n",
    "        try:\n",
    "              \n",
    "            df = spark.read.option('header', 'true').parquet(f\"{path}/{file_name}\")\n",
    "            \n",
    "            Path(f\"../tripdata/{service}/repartitioned/{year}/{month:02d}/\").mkdir(parents=True, exist_ok=True)\n",
    "\n",
    "            df.repartition(4).write.parquet(f\"../tripdata/{service}/repartitioned/{year}/{month:02d}/\", mode= 'overwrite')\n",
    "        \n",
    "        except pyspark.sql.utils.AnalysisException:\n",
    "            continue"
   ]
  },
  {
   "cell_type": "code",
   "execution_count": 5,
   "id": "7829fa1d",
   "metadata": {
    "scrolled": true
   },
   "outputs": [
    {
     "name": "stderr",
     "output_type": "stream",
     "text": [
      "                                                                                \r"
     ]
    }
   ],
   "source": [
    "repartition('green', 2020)"
   ]
  },
  {
   "cell_type": "code",
   "execution_count": 6,
   "id": "fe57420f",
   "metadata": {
    "scrolled": true
   },
   "outputs": [],
   "source": [
    "repartition('green', 2021)"
   ]
  },
  {
   "cell_type": "code",
   "execution_count": 7,
   "id": "b2ee7525",
   "metadata": {
    "scrolled": false
   },
   "outputs": [
    {
     "name": "stderr",
     "output_type": "stream",
     "text": [
      "                                                                                \r"
     ]
    }
   ],
   "source": [
    "repartition('yellow', 2020)"
   ]
  },
  {
   "cell_type": "code",
   "execution_count": 8,
   "id": "10d4d523",
   "metadata": {},
   "outputs": [
    {
     "name": "stderr",
     "output_type": "stream",
     "text": [
      "                                                                                \r"
     ]
    }
   ],
   "source": [
    "repartition('yellow', 2021)"
   ]
  }
 ],
 "metadata": {
  "kernelspec": {
   "display_name": "Python 3 (ipykernel)",
   "language": "python",
   "name": "python3"
  },
  "language_info": {
   "codemirror_mode": {
    "name": "ipython",
    "version": 3
   },
   "file_extension": ".py",
   "mimetype": "text/x-python",
   "name": "python",
   "nbconvert_exporter": "python",
   "pygments_lexer": "ipython3",
   "version": "3.9.7"
  }
 },
 "nbformat": 4,
 "nbformat_minor": 5
}
