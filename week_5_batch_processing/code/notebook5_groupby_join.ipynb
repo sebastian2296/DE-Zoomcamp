{
 "cells": [
  {
   "cell_type": "code",
   "execution_count": 1,
   "id": "26737e3c",
   "metadata": {},
   "outputs": [],
   "source": [
    "import findspark\n",
    "findspark.init()"
   ]
  },
  {
   "cell_type": "code",
   "execution_count": 2,
   "id": "4ed2478b",
   "metadata": {},
   "outputs": [
    {
     "name": "stderr",
     "output_type": "stream",
     "text": [
      "22/02/24 10:46:09 WARN Utils: Your hostname, sebastian2296 resolves to a loopback address: 127.0.1.1; using 192.168.20.23 instead (on interface wlp2s0)\n",
      "22/02/24 10:46:09 WARN Utils: Set SPARK_LOCAL_IP if you need to bind to another address\n",
      "WARNING: An illegal reflective access operation has occurred\n",
      "WARNING: Illegal reflective access by org.apache.spark.unsafe.Platform (file:/opt/spark/jars/spark-unsafe_2.12-3.2.0.jar) to constructor java.nio.DirectByteBuffer(long,int)\n",
      "WARNING: Please consider reporting this to the maintainers of org.apache.spark.unsafe.Platform\n",
      "WARNING: Use --illegal-access=warn to enable warnings of further illegal reflective access operations\n",
      "WARNING: All illegal access operations will be denied in a future release\n",
      "Using Spark's default log4j profile: org/apache/spark/log4j-defaults.properties\n",
      "Setting default log level to \"WARN\".\n",
      "To adjust logging level use sc.setLogLevel(newLevel). For SparkR, use setLogLevel(newLevel).\n",
      "22/02/24 10:46:10 WARN NativeCodeLoader: Unable to load native-hadoop library for your platform... using builtin-java classes where applicable\n"
     ]
    }
   ],
   "source": [
    "import pyspark\n",
    "from pyspark.sql import SparkSession\n",
    "\n",
    "spark = SparkSession.builder  \\\n",
    "        .master('local[*]') \\\n",
    "        .appName('Group_by') \\\n",
    "        .getOrCreate()"
   ]
  },
  {
   "cell_type": "code",
   "execution_count": 3,
   "id": "71747be4",
   "metadata": {},
   "outputs": [
    {
     "name": "stderr",
     "output_type": "stream",
     "text": [
      "                                                                                \r"
     ]
    }
   ],
   "source": [
    "df_green = spark.read.parquet('../tripdata/green/repartitioned/*/*')"
   ]
  },
  {
   "cell_type": "code",
   "execution_count": 4,
   "id": "cd76eb99",
   "metadata": {},
   "outputs": [],
   "source": [
    "df_green = df_green \\\n",
    ".withColumnRenamed('lpep_pickup_datetime', 'pickup_datetime') \\\n",
    ".withColumnRenamed('lpep_dropoff_datetime', 'dropoff_datetime')"
   ]
  },
  {
   "cell_type": "code",
   "execution_count": 5,
   "id": "9142f4b1",
   "metadata": {},
   "outputs": [],
   "source": [
    "df_green.createOrReplaceTempView('green')"
   ]
  },
  {
   "cell_type": "code",
   "execution_count": 11,
   "id": "a6bf172e",
   "metadata": {},
   "outputs": [],
   "source": [
    "df_result = spark.sql(''' SELECT\n",
    "\n",
    "    date_trunc('hour', pickup_datetime) AS hour,  \n",
    "    PULocationID AS zone,\n",
    "    \n",
    "\n",
    "    SUM(total_amount) AS amount,\n",
    "    COUNT(1) as number_records\n",
    "    FROM\n",
    "    green\n",
    "    WHERE pickup_datetime >= '2020-01-01 00:00:00'\n",
    "    GROUP BY\n",
    "    1, 2\n",
    "    ORDER BY\n",
    "    1, 2''')"
   ]
  },
  {
   "cell_type": "code",
   "execution_count": 12,
   "id": "b9472443",
   "metadata": {
    "scrolled": true
   },
   "outputs": [
    {
     "name": "stderr",
     "output_type": "stream",
     "text": [
      "[Stage 7:===================================================>       (7 + 1) / 8]\r"
     ]
    },
    {
     "name": "stdout",
     "output_type": "stream",
     "text": [
      "+-------------------+----+------------------+--------------+\n",
      "|               hour|zone|            amount|number_records|\n",
      "+-------------------+----+------------------+--------------+\n",
      "|2020-01-01 00:00:00|   7| 368.7800000000001|            18|\n",
      "|2020-01-01 00:00:00|  16|              20.3|             1|\n",
      "|2020-01-01 00:00:00|  17|              58.3|             3|\n",
      "|2020-01-01 00:00:00|  25|               7.2|             1|\n",
      "|2020-01-01 00:00:00|  31|             23.34|             1|\n",
      "|2020-01-01 00:00:00|  35|109.27000000000001|             2|\n",
      "|2020-01-01 00:00:00|  36|            144.93|             8|\n",
      "|2020-01-01 00:00:00|  37|            160.89|             5|\n",
      "|2020-01-01 00:00:00|  39|             66.22|             2|\n",
      "|2020-01-01 00:00:00|  40|              13.8|             1|\n",
      "|2020-01-01 00:00:00|  41|             50.45|             4|\n",
      "|2020-01-01 00:00:00|  42|             94.17|            10|\n",
      "|2020-01-01 00:00:00|  56|              8.84|             1|\n",
      "|2020-01-01 00:00:00|  61|             28.05|             4|\n",
      "|2020-01-01 00:00:00|  74| 83.67999999999999|             7|\n",
      "|2020-01-01 00:00:00|  75|14.870000000000001|             2|\n",
      "|2020-01-01 00:00:00|  77|              16.8|             1|\n",
      "|2020-01-01 00:00:00|  78|               7.8|             1|\n",
      "|2020-01-01 00:00:00|  80|1199.8799999999997|            36|\n",
      "|2020-01-01 00:00:00|  82|            191.86|            16|\n",
      "+-------------------+----+------------------+--------------+\n",
      "only showing top 20 rows\n",
      "\n"
     ]
    },
    {
     "name": "stderr",
     "output_type": "stream",
     "text": [
      "\r",
      "                                                                                \r"
     ]
    }
   ],
   "source": [
    "df_result.show()"
   ]
  },
  {
   "cell_type": "code",
   "execution_count": 13,
   "id": "30b466e1",
   "metadata": {},
   "outputs": [],
   "source": [
    "!cd data_all && mkdir group_by"
   ]
  },
  {
   "cell_type": "code",
   "execution_count": 14,
   "id": "75d7ec8d",
   "metadata": {},
   "outputs": [
    {
     "name": "stderr",
     "output_type": "stream",
     "text": [
      "22/02/24 10:56:12 WARN MemoryManager: Total allocation exceeds 95.00% (1,020,054,720 bytes) of heap memory\n",
      "Scaling row group sizes to 95.00% for 8 writers\n",
      "                                                                                \r"
     ]
    }
   ],
   "source": [
    "df_result.write.parquet('data_all/group_by/', mode = 'overwrite')"
   ]
  }
 ],
 "metadata": {
  "kernelspec": {
   "display_name": "Python 3 (ipykernel)",
   "language": "python",
   "name": "python3"
  },
  "language_info": {
   "codemirror_mode": {
    "name": "ipython",
    "version": 3
   },
   "file_extension": ".py",
   "mimetype": "text/x-python",
   "name": "python",
   "nbconvert_exporter": "python",
   "pygments_lexer": "ipython3",
   "version": "3.9.7"
  }
 },
 "nbformat": 4,
 "nbformat_minor": 5
}
